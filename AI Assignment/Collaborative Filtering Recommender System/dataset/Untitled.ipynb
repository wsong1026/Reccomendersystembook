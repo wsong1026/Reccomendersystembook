{
 "cells": [
  {
   "cell_type": "code",
   "execution_count": 13,
   "id": "27490536",
   "metadata": {},
   "outputs": [],
   "source": [
    "import tkinter as tk\n",
    "from tkinter import Scrollbar, Listbox, Label, Entry, Button"
   ]
  },
  {
   "cell_type": "code",
   "execution_count": 14,
   "id": "8881320f",
   "metadata": {},
   "outputs": [],
   "source": [
    "book_details_list = [\n",
    "    {\"title\": \"Book 1\", \"author\": \"Author 1\", \"description\": \"Description 1\"},\n",
    "    {\"title\": \"Book 2\", \"author\": \"Author 2\", \"description\": \"Description 2\"},\n",
    "    {\"title\": \"Book 3\", \"author\": \"Author 3\", \"description\": \"Description 3\"}\n",
    "]"
   ]
  },
  {
   "cell_type": "code",
   "execution_count": 15,
   "id": "d919f003",
   "metadata": {},
   "outputs": [
    {
     "ename": "SyntaxError",
     "evalue": "invalid syntax (3424106806.py, line 1)",
     "output_type": "error",
     "traceback": [
      "\u001b[1;36m  Cell \u001b[1;32mIn[15], line 1\u001b[1;36m\u001b[0m\n\u001b[1;33m    ef update_details():\u001b[0m\n\u001b[1;37m       ^\u001b[0m\n\u001b[1;31mSyntaxError\u001b[0m\u001b[1;31m:\u001b[0m invalid syntax\n"
     ]
    }
   ],
   "source": [
    "ef update_details():\n",
    "    selected_book_index = listbox.curselection()\n",
    "    if selected_book_index:\n",
    "        index = selected_book_index[0]\n",
    "        selected_book = book_details_list[index]\n",
    "        details_text.delete(1.0, tk.END)\n",
    "        details_text.insert(tk.END, f\"Title: {selected_book['title']}\\n\")\n",
    "        details_text.insert(tk.END, f\"Author: {selected_book['author']}\\n\")\n",
    "        details_text.insert(tk.END, f\"Description: {selected_book['description']}\")"
   ]
  },
  {
   "cell_type": "code",
   "execution_count": 16,
   "id": "fc66675b",
   "metadata": {},
   "outputs": [
    {
     "data": {
      "text/plain": [
       "''"
      ]
     },
     "execution_count": 16,
     "metadata": {},
     "output_type": "execute_result"
    }
   ],
   "source": [
    "root = tk.Tk()\n",
    "root.title(\"Book Details\")\n",
    "root.geometry(\"600x400\")"
   ]
  },
  {
   "cell_type": "code",
   "execution_count": 17,
   "id": "854eaa1d",
   "metadata": {},
   "outputs": [],
   "source": [
    "listbox = Listbox(root, width=40, height=20)\n",
    "for book in book_details_list:\n",
    "    listbox.insert(tk.END, book[\"title\"])\n",
    "listbox.pack(side=tk.LEFT, fill=tk.BOTH)"
   ]
  },
  {
   "cell_type": "code",
   "execution_count": 11,
   "id": "b9ecf49d",
   "metadata": {},
   "outputs": [],
   "source": [
    "scrollbar = Scrollbar(root)\n",
    "scrollbar.pack(side=tk.RIGHT, fill=tk.Y)\n",
    "listbox.config(yscrollcommand=scrollbar.set)\n",
    "scrollbar.config(command=listbox.yview)"
   ]
  },
  {
   "cell_type": "code",
   "execution_count": 12,
   "id": "1c06bacb",
   "metadata": {},
   "outputs": [
    {
     "ename": "NameError",
     "evalue": "name 'Text' is not defined",
     "output_type": "error",
     "traceback": [
      "\u001b[1;31m---------------------------------------------------------------------------\u001b[0m",
      "\u001b[1;31mNameError\u001b[0m                                 Traceback (most recent call last)",
      "Cell \u001b[1;32mIn[12], line 1\u001b[0m\n\u001b[1;32m----> 1\u001b[0m details_text \u001b[38;5;241m=\u001b[39m \u001b[43mText\u001b[49m(root, wrap\u001b[38;5;241m=\u001b[39mtk\u001b[38;5;241m.\u001b[39mWORD, width\u001b[38;5;241m=\u001b[39m\u001b[38;5;241m60\u001b[39m, height\u001b[38;5;241m=\u001b[39m\u001b[38;5;241m20\u001b[39m)\n\u001b[0;32m      2\u001b[0m details_text\u001b[38;5;241m.\u001b[39mpack(side\u001b[38;5;241m=\u001b[39mtk\u001b[38;5;241m.\u001b[39mRIGHT, fill\u001b[38;5;241m=\u001b[39mtk\u001b[38;5;241m.\u001b[39mBOTH)\n",
      "\u001b[1;31mNameError\u001b[0m: name 'Text' is not defined"
     ]
    }
   ],
   "source": [
    "details_text = Text(root, wrap=tk.WORD, width=60, height=20)\n",
    "details_text.pack(side=tk.RIGHT, fill=tk.BOTH)"
   ]
  },
  {
   "cell_type": "code",
   "execution_count": null,
   "id": "c8971509",
   "metadata": {},
   "outputs": [],
   "source": []
  }
 ],
 "metadata": {
  "kernelspec": {
   "display_name": "Python 3 (ipykernel)",
   "language": "python",
   "name": "python3"
  },
  "language_info": {
   "codemirror_mode": {
    "name": "ipython",
    "version": 3
   },
   "file_extension": ".py",
   "mimetype": "text/x-python",
   "name": "python",
   "nbconvert_exporter": "python",
   "pygments_lexer": "ipython3",
   "version": "3.10.9"
  }
 },
 "nbformat": 4,
 "nbformat_minor": 5
}
